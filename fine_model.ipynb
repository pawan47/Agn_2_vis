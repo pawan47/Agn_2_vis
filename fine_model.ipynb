{
 "cells": [
  {
   "cell_type": "code",
   "execution_count": 1,
   "metadata": {
    "_uuid": "a0be2094d3489825188d4096e8bd868ea550b0a9"
   },
   "outputs": [
    {
     "name": "stderr",
     "output_type": "stream",
     "text": [
      "Using TensorFlow backend.\n"
     ]
    }
   ],
   "source": [
    "import numpy as np\n",
    "import pandas as pd\n",
    "import os\n",
    "import cv2\n",
    "import matplotlib.pyplot as plt\n",
    "import matplotlib.image as mpimg\n",
    "from random import shuffle\n",
    "import glob\n",
    "from sklearn.preprocessing import LabelEncoder as le\n",
    "from sklearn.model_selection import train_test_split\n",
    "from keras.models import load_model"
   ]
  },
  {
   "cell_type": "code",
   "execution_count": 2,
   "metadata": {
    "_uuid": "6e53707dbe169511e82613903764a81ceb31fd07"
   },
   "outputs": [],
   "source": [
    "import keras\n",
    "from keras.models import Sequential\n",
    "from keras.layers import Dense, Dropout, Flatten, GlobalAveragePooling2D\n",
    "from keras.layers import Conv2D, MaxPooling2D\n",
    "from keras.applications import MobileNet,densenet\n",
    "from keras.preprocessing import image\n",
    "from keras.preprocessing.image import ImageDataGenerator\n",
    "from keras.models import Model\n",
    "from keras.optimizers import Adam\n",
    "from keras.callbacks import EarlyStopping, ModelCheckpoint\n",
    "from keras.layers import concatenate, add\n",
    "from keras.layers import Input\n"
   ]
  },
  {
   "cell_type": "code",
   "execution_count": 3,
   "metadata": {
    "_uuid": "f649a8dec5a67b485e69684f8109d5fddd5b8375"
   },
   "outputs": [],
   "source": [
    "# cla = [x[1] for x in os.walk(\"../input/vision_asgn2/vision_asgn2\")][0]"
   ]
  },
  {
   "cell_type": "code",
   "execution_count": 4,
   "metadata": {
    "_uuid": "46cc9169a4f96d40d970893eb3f5d1a36f5977cb"
   },
   "outputs": [],
   "source": []
  },
  {
   "cell_type": "code",
   "execution_count": 4,
   "metadata": {
    "_uuid": "789df8b094d003770329abf662a9bbd976562be6"
   },
   "outputs": [],
   "source": [
    "data = []\n",
    "y = []\n",
    "fine = True\n",
    "kk = glob.glob('../input/visreca2/train/train/*/*/*.jpg')\n",
    "shuffle(kk)\n",
    "for i in kk:\n",
    "    data.append(cv2.resize(mpimg.imread(i)/255.0 ,(224,224)))\n",
    "    pp = i.split('/')\n",
    "    if fine == True:\n",
    "        y.append(pp[5] + '_' + pp[6])\n",
    "    else:\n",
    "        y.append(pp[5])\n",
    "data = np.array(data)\n",
    "\n",
    "# kk\n"
   ]
  },
  {
   "cell_type": "code",
   "execution_count": 5,
   "metadata": {
    "_uuid": "2dc99d9536fb520891fb7cfb2fb6c66df492420a"
   },
   "outputs": [],
   "source": []
  },
  {
   "cell_type": "code",
   "execution_count": 5,
   "metadata": {
    "_uuid": "63bf156ac59d0a5c177d68b3ff10c4408825d457"
   },
   "outputs": [
    {
     "data": {
      "text/plain": [
       "{'aircrafts_1',\n",
       " 'aircrafts_2',\n",
       " 'aircrafts_3',\n",
       " 'aircrafts_4',\n",
       " 'aircrafts_5',\n",
       " 'aircrafts_6',\n",
       " 'aircrafts_7',\n",
       " 'birds_1',\n",
       " 'birds_10',\n",
       " 'birds_11',\n",
       " 'birds_2',\n",
       " 'birds_3',\n",
       " 'birds_4',\n",
       " 'birds_5',\n",
       " 'birds_6',\n",
       " 'birds_7',\n",
       " 'birds_8',\n",
       " 'birds_9',\n",
       " 'cars_1',\n",
       " 'cars_2',\n",
       " 'cars_3',\n",
       " 'cars_4',\n",
       " 'cars_5',\n",
       " 'cars_6',\n",
       " 'cars_7',\n",
       " 'cars_8',\n",
       " 'dogs_1',\n",
       " 'dogs_2',\n",
       " 'dogs_3',\n",
       " 'dogs_4',\n",
       " 'dogs_5',\n",
       " 'flowers_1',\n",
       " 'flowers_2',\n",
       " 'flowers_3',\n",
       " 'flowers_4',\n",
       " 'flowers_5'}"
      ]
     },
     "execution_count": 5,
     "metadata": {},
     "output_type": "execute_result"
    }
   ],
   "source": [
    "set(y)"
   ]
  },
  {
   "cell_type": "code",
   "execution_count": 6,
   "metadata": {
    "_uuid": "02d331fe8c6b9c704b60f09e6608a1efc171a8b7"
   },
   "outputs": [],
   "source": [
    "le_ = le()\n",
    "le_.fit(y)\n",
    "y = le_.transform(y)"
   ]
  },
  {
   "cell_type": "code",
   "execution_count": 7,
   "metadata": {
    "_uuid": "71c4905793021f928e3ce684b96fa3a6ac45350d"
   },
   "outputs": [
    {
     "name": "stdout",
     "output_type": "stream",
     "text": [
      "{0: 'aircrafts_1', 1: 'aircrafts_2', 2: 'aircrafts_3', 3: 'aircrafts_4', 4: 'aircrafts_5', 5: 'aircrafts_6', 6: 'aircrafts_7', 7: 'birds_1', 8: 'birds_10', 9: 'birds_11', 10: 'birds_2', 11: 'birds_3', 12: 'birds_4', 13: 'birds_5', 14: 'birds_6', 15: 'birds_7', 16: 'birds_8', 17: 'birds_9', 18: 'cars_1', 19: 'cars_2', 20: 'cars_3', 21: 'cars_4', 22: 'cars_5', 23: 'cars_6', 24: 'cars_7', 25: 'cars_8', 26: 'dogs_1', 27: 'dogs_2', 28: 'dogs_3', 29: 'dogs_4', 30: 'dogs_5', 31: 'flowers_1', 32: 'flowers_2', 33: 'flowers_3', 34: 'flowers_4', 35: 'flowers_5'}\n"
     ]
    }
   ],
   "source": [
    "le_name_mapping = dict(zip(le_.transform(le_.classes_) , le_.classes_ ))\n",
    "print(le_name_mapping)"
   ]
  },
  {
   "cell_type": "code",
   "execution_count": 8,
   "metadata": {
    "_uuid": "5c8050af567d50c9364882bf76c1319c20e2aab1"
   },
   "outputs": [],
   "source": [
    "import pickle\n",
    "pickle_out = open(\"dict_f_20_early_stopping_90.pickle\",\"wb\")\n",
    "pickle.dump(le_name_mapping, pickle_out)\n",
    "pickle_out.close()"
   ]
  },
  {
   "cell_type": "code",
   "execution_count": 9,
   "metadata": {
    "_uuid": "9a578576055037c038ea7c22ea7c8a2fa0005573"
   },
   "outputs": [],
   "source": []
  },
  {
   "cell_type": "code",
   "execution_count": 9,
   "metadata": {
    "_uuid": "f2ca5ec4c2e21bedc056e80e154bdc60f3d00fac"
   },
   "outputs": [],
   "source": [
    "x_train,x_test,y_train_,y_test_ = train_test_split(data,y,test_size = .1)"
   ]
  },
  {
   "cell_type": "code",
   "execution_count": 10,
   "metadata": {
    "_uuid": "cf4815ad567ba10a1c6a9d05f8385aa9386ff787"
   },
   "outputs": [],
   "source": [
    "y_train_ = keras.utils.to_categorical(y_train_, 36)\n",
    "y_test_ = keras.utils.to_categorical(y_test_, 36)"
   ]
  },
  {
   "cell_type": "code",
   "execution_count": 11,
   "metadata": {
    "_uuid": "7060236d8d064ea3a6dca4e667358b485dea78c0"
   },
   "outputs": [
    {
     "data": {
      "text/plain": [
       "(2180, 224, 224, 3)"
      ]
     },
     "execution_count": 11,
     "metadata": {},
     "output_type": "execute_result"
    }
   ],
   "source": [
    "x_train.shape"
   ]
  },
  {
   "cell_type": "code",
   "execution_count": 12,
   "metadata": {
    "_uuid": "4f52941be488806961c5b83c4d938e833064548f"
   },
   "outputs": [],
   "source": [
    "datagen = ImageDataGenerator(\n",
    "    featurewise_center=True,\n",
    "    featurewise_std_normalization=True,\n",
    "    rotation_range=30,\n",
    "    horizontal_flip=True,\n",
    "    zoom_range=0.2)\n",
    "datagen.fit(x_train)"
   ]
  },
  {
   "cell_type": "code",
   "execution_count": 13,
   "metadata": {
    "_uuid": "f11e1f8b024808ef49a50de4c59a86bb5e6f91d7"
   },
   "outputs": [
    {
     "data": {
      "text/plain": [
       "'Done'"
      ]
     },
     "execution_count": 13,
     "metadata": {},
     "output_type": "execute_result"
    }
   ],
   "source": [
    "'Done'"
   ]
  },
  {
   "cell_type": "code",
   "execution_count": 14,
   "metadata": {
    "_uuid": "9ab140bce0c299c74e43d1b59037ad6c0ca6be76"
   },
   "outputs": [],
   "source": [
    "inp = Input(shape = (224,224,3))"
   ]
  },
  {
   "cell_type": "code",
   "execution_count": 15,
   "metadata": {
    "_uuid": "fb2f5723d732ed679a147ba3a696fa4ed530e5ee"
   },
   "outputs": [],
   "source": [
    "foo = glob.glob('../input/*/*.h5')[0]"
   ]
  },
  {
   "cell_type": "code",
   "execution_count": 16,
   "metadata": {
    "_uuid": "eff2895d64a9de4681ff3d90f64797b5bcdef3b3"
   },
   "outputs": [],
   "source": [
    "#Course \n",
    "model_C = load_model(foo)\n",
    "Cx = model_C(inp)\n"
   ]
  },
  {
   "cell_type": "code",
   "execution_count": 17,
   "metadata": {
    "_uuid": "a5fa87b5761a2db3b762ffac91dfc1840ba51745"
   },
   "outputs": [
    {
     "name": "stderr",
     "output_type": "stream",
     "text": [
      "/opt/conda/lib/python3.6/site-packages/keras_applications/mobilenet.py:208: UserWarning: MobileNet shape is undefined. Weights for input shape (224, 224) will be loaded.\n",
      "  warnings.warn('MobileNet shape is undefined.'\n"
     ]
    },
    {
     "name": "stdout",
     "output_type": "stream",
     "text": [
      "Downloading data from https://github.com/fchollet/deep-learning-models/releases/download/v0.6/mobilenet_1_0_224_tf_no_top.h5\n",
      "17227776/17225924 [==============================] - 0s 0us/step\n"
     ]
    }
   ],
   "source": [
    "#19# model 2\n",
    "\n",
    "base_model1=MobileNet(weights='imagenet',include_top=False) \n",
    "x=base_model1(inp)\n",
    "x1=GlobalAveragePooling2D()(x)\n",
    "# x=Dense(512,activation='relu')(x) \n",
    "# preds=Dense(5,activation='softmax')(x) \n",
    "#model1 = Model(inputs=base_model1.input, outputs=x1)\n",
    "#model1.summary()"
   ]
  },
  {
   "cell_type": "code",
   "execution_count": 18,
   "metadata": {
    "_uuid": "052346701c4e2005f4b25aebb53356c2202457b6"
   },
   "outputs": [
    {
     "name": "stdout",
     "output_type": "stream",
     "text": [
      "Downloading data from https://github.com/keras-team/keras-applications/releases/download/densenet/densenet121_weights_tf_dim_ordering_tf_kernels_notop.h5\n",
      "29089792/29084464 [==============================] - 0s 0us/step\n"
     ]
    }
   ],
   "source": [
    "\n",
    "base_model2 = densenet.DenseNet121(include_top = False, weights='imagenet')\n",
    "\n",
    "x=base_model2(inp)\n",
    "x2=GlobalAveragePooling2D()(x)\n",
    "#model2=Model(inputs=base_model2.input,outputs=x2)\n",
    "# len(model.layers)\n",
    "#model2.summary()"
   ]
  },
  {
   "cell_type": "code",
   "execution_count": 19,
   "metadata": {
    "_uuid": "43862af07cdce80c9eb13906affafe66122db09b"
   },
   "outputs": [
    {
     "name": "stdout",
     "output_type": "stream",
     "text": [
      "__________________________________________________________________________________________________\n",
      "Layer (type)                    Output Shape         Param #     Connected to                     \n",
      "==================================================================================================\n",
      "input_1 (InputLayer)            (None, 224, 224, 3)  0                                            \n",
      "__________________________________________________________________________________________________\n",
      "mobilenet_1.00_224 (Model)      multiple             3228864     input_1[0][0]                    \n",
      "__________________________________________________________________________________________________\n",
      "densenet121 (Model)             multiple             7037504     input_1[0][0]                    \n",
      "__________________________________________________________________________________________________\n",
      "global_average_pooling2d_1 (Glo (None, 1024)         0           mobilenet_1.00_224[1][0]         \n",
      "__________________________________________________________________________________________________\n",
      "global_average_pooling2d_2 (Glo (None, 1024)         0           densenet121[1][0]                \n",
      "__________________________________________________________________________________________________\n",
      "model_1 (Model)                 (None, 5)            4283589     input_1[0][0]                    \n",
      "__________________________________________________________________________________________________\n",
      "concatenate_1 (Concatenate)     (None, 2053)         0           global_average_pooling2d_1[0][0] \n",
      "                                                                 global_average_pooling2d_2[0][0] \n",
      "                                                                 model_1[1][0]                    \n",
      "__________________________________________________________________________________________________\n",
      "dense_1 (Dense)                 (None, 1024)         2103296     concatenate_1[0][0]              \n",
      "__________________________________________________________________________________________________\n",
      "dense_2 (Dense)                 (None, 36)           36900       dense_1[0][0]                    \n",
      "==================================================================================================\n",
      "Total params: 16,690,153\n",
      "Trainable params: 13,355,753\n",
      "Non-trainable params: 3,334,400\n",
      "__________________________________________________________________________________________________\n"
     ]
    }
   ],
   "source": [
    "concatenated = concatenate([x1, x2, Cx])\n",
    "concat_out = Dense(1024, activation='relu')(concatenated)\n",
    "#concat_out = Dense(1024,activation = 'relu')(concat_out)\n",
    "concat_out_ = Dense(36, activation='softmax')(concat_out)\n",
    "merged_model= Model(inputs=inp, outputs=concat_out_)\n",
    "\n",
    "merged_model.summary()"
   ]
  },
  {
   "cell_type": "code",
   "execution_count": 20,
   "metadata": {
    "_uuid": "496c7acf16c8ec1b72e2fba4d6fc476eed70f568"
   },
   "outputs": [
    {
     "data": {
      "text/plain": [
       "'Done'"
      ]
     },
     "execution_count": 20,
     "metadata": {},
     "output_type": "execute_result"
    }
   ],
   "source": [
    "'Done'"
   ]
  },
  {
   "cell_type": "code",
   "execution_count": 21,
   "metadata": {
    "_uuid": "9f126b641d72f6f82867fa36acdf6ff8bed2dd78"
   },
   "outputs": [
    {
     "data": {
      "text/plain": [
       "9"
      ]
     },
     "execution_count": 21,
     "metadata": {},
     "output_type": "execute_result"
    }
   ],
   "source": [
    "len(merged_model.layers)"
   ]
  },
  {
   "cell_type": "code",
   "execution_count": 22,
   "metadata": {
    "_uuid": "f77df8b3fe64568bcdf7dbbf6db15e0607c15e58"
   },
   "outputs": [
    {
     "data": {
      "text/plain": [
       "[<keras.layers.core.Dense at 0x7f258e169a20>,\n",
       " <keras.layers.core.Dense at 0x7f258e169ac8>]"
      ]
     },
     "execution_count": 22,
     "metadata": {},
     "output_type": "execute_result"
    }
   ],
   "source": [
    "merged_model.layers[7:]"
   ]
  },
  {
   "cell_type": "code",
   "execution_count": 23,
   "metadata": {
    "_uuid": "6271bd257794591b5b967649a55d01e3141f6a37"
   },
   "outputs": [],
   "source": []
  },
  {
   "cell_type": "code",
   "execution_count": 23,
   "metadata": {
    "_uuid": "764e24eaff4dbce247f530d836e096707e21412d"
   },
   "outputs": [],
   "source": [
    "model = merged_model"
   ]
  },
  {
   "cell_type": "code",
   "execution_count": 24,
   "metadata": {
    "_uuid": "fd5b244a5df8515c4fc7d594970b0dceb723c005"
   },
   "outputs": [],
   "source": [
    "# m= Merge([base_model1, base_model2,], mode='concat')"
   ]
  },
  {
   "cell_type": "code",
   "execution_count": 25,
   "metadata": {
    "_uuid": "b4683de82116bf8f682caf5ddb78103e88089e87"
   },
   "outputs": [],
   "source": []
  },
  {
   "cell_type": "code",
   "execution_count": 25,
   "metadata": {
    "_uuid": "7ae9453af3aebee6cc726610cf9d8f60996b1e13"
   },
   "outputs": [],
   "source": []
  },
  {
   "cell_type": "code",
   "execution_count": 25,
   "metadata": {
    "_uuid": "973a3424badc2df262c6e73b0db5a3e3c32347a8"
   },
   "outputs": [],
   "source": []
  },
  {
   "cell_type": "code",
   "execution_count": 25,
   "metadata": {
    "_uuid": "65853e1c9614c9b7d5d370a26ba9c845195c1f09"
   },
   "outputs": [],
   "source": []
  },
  {
   "cell_type": "code",
   "execution_count": 25,
   "metadata": {
    "_uuid": "d5e837927cced1a7fbed165368f76a91d92c4dfa"
   },
   "outputs": [],
   "source": []
  },
  {
   "cell_type": "code",
   "execution_count": 25,
   "metadata": {
    "_uuid": "d7c89b5e0e9e814715c3dee757edfc3920efeca3"
   },
   "outputs": [],
   "source": [
    "# model=Model(inputs=base_model.input,outputs=preds)\n",
    "# len(model.layers)"
   ]
  },
  {
   "cell_type": "code",
   "execution_count": 26,
   "metadata": {
    "_uuid": "3a6575e0ca4e9feff4c42b70d6ab84c70a149ee4"
   },
   "outputs": [
    {
     "name": "stdout",
     "output_type": "stream",
     "text": [
      "__________________________________________________________________________________________________\n",
      "Layer (type)                    Output Shape         Param #     Connected to                     \n",
      "==================================================================================================\n",
      "input_1 (InputLayer)            (None, 224, 224, 3)  0                                            \n",
      "__________________________________________________________________________________________________\n",
      "mobilenet_1.00_224 (Model)      multiple             3228864     input_1[0][0]                    \n",
      "__________________________________________________________________________________________________\n",
      "densenet121 (Model)             multiple             7037504     input_1[0][0]                    \n",
      "__________________________________________________________________________________________________\n",
      "global_average_pooling2d_1 (Glo (None, 1024)         0           mobilenet_1.00_224[1][0]         \n",
      "__________________________________________________________________________________________________\n",
      "global_average_pooling2d_2 (Glo (None, 1024)         0           densenet121[1][0]                \n",
      "__________________________________________________________________________________________________\n",
      "model_1 (Model)                 (None, 5)            4283589     input_1[0][0]                    \n",
      "__________________________________________________________________________________________________\n",
      "concatenate_1 (Concatenate)     (None, 2053)         0           global_average_pooling2d_1[0][0] \n",
      "                                                                 global_average_pooling2d_2[0][0] \n",
      "                                                                 model_1[1][0]                    \n",
      "__________________________________________________________________________________________________\n",
      "dense_1 (Dense)                 (None, 1024)         2103296     concatenate_1[0][0]              \n",
      "__________________________________________________________________________________________________\n",
      "dense_2 (Dense)                 (None, 36)           36900       dense_1[0][0]                    \n",
      "==================================================================================================\n",
      "Total params: 16,690,153\n",
      "Trainable params: 2,140,196\n",
      "Non-trainable params: 14,549,957\n",
      "__________________________________________________________________________________________________\n",
      "None\n"
     ]
    }
   ],
   "source": [
    "for layer in model.layers[:7]:\n",
    "    layer.trainable=False\n",
    "for layer in model.layers[7:]:\n",
    "    layer.trainable=True\n",
    "print(model.summary())"
   ]
  },
  {
   "cell_type": "code",
   "execution_count": 27,
   "metadata": {
    "_uuid": "58da2d969adfcab0949904528aeddeac25058b96"
   },
   "outputs": [],
   "source": [
    "optimizer = Adam(lr = 0.001, decay=0.05, amsgrad=True)\n",
    "model.compile(optimizer=optimizer,loss='categorical_crossentropy',metrics=['accuracy'])"
   ]
  },
  {
   "cell_type": "code",
   "execution_count": 28,
   "metadata": {
    "_uuid": "226e5c81d418ea7c1652c3e022ceeea470f3cb9d"
   },
   "outputs": [],
   "source": [
    "callbacks = [EarlyStopping(monitor = 'val_loss', patience = 7)]"
   ]
  },
  {
   "cell_type": "code",
   "execution_count": 29,
   "metadata": {
    "_uuid": "4389393fe3c9cff79e6a442ac2a58e5031d1ea75"
   },
   "outputs": [
    {
     "name": "stdout",
     "output_type": "stream",
     "text": [
      "Epoch 1/100\n",
      "35/34 [==============================] - 59s 2s/step - loss: 1.3279 - acc: 0.6446 - val_loss: 0.4297 - val_acc: 0.8642\n",
      "Epoch 2/100\n",
      "35/34 [==============================] - 31s 887ms/step - loss: 0.4319 - acc: 0.8664 - val_loss: 0.3105 - val_acc: 0.9053\n",
      "Epoch 3/100\n",
      "35/34 [==============================] - 35s 990ms/step - loss: 0.3188 - acc: 0.9028 - val_loss: 0.2678 - val_acc: 0.9383\n",
      "Epoch 4/100\n",
      "35/34 [==============================] - 35s 1000ms/step - loss: 0.2565 - acc: 0.9242 - val_loss: 0.2618 - val_acc: 0.9424\n",
      "Epoch 5/100\n",
      "35/34 [==============================] - 35s 1s/step - loss: 0.2035 - acc: 0.9515 - val_loss: 0.2114 - val_acc: 0.9506\n",
      "Epoch 6/100\n",
      "35/34 [==============================] - 35s 1s/step - loss: 0.1871 - acc: 0.9506 - val_loss: 0.2041 - val_acc: 0.9547\n",
      "Epoch 7/100\n",
      "35/34 [==============================] - 36s 1s/step - loss: 0.1614 - acc: 0.9616 - val_loss: 0.2005 - val_acc: 0.9465\n",
      "Epoch 8/100\n",
      "35/34 [==============================] - 35s 1s/step - loss: 0.1594 - acc: 0.9627 - val_loss: 0.2036 - val_acc: 0.9506\n",
      "Epoch 9/100\n",
      "35/34 [==============================] - 35s 1s/step - loss: 0.1343 - acc: 0.9698 - val_loss: 0.1896 - val_acc: 0.9671\n",
      "Epoch 10/100\n",
      "35/34 [==============================] - 35s 993ms/step - loss: 0.1406 - acc: 0.9777 - val_loss: 0.1930 - val_acc: 0.9465\n",
      "Epoch 11/100\n",
      "35/34 [==============================] - 35s 996ms/step - loss: 0.1261 - acc: 0.9790 - val_loss: 0.1848 - val_acc: 0.9588\n",
      "Epoch 12/100\n",
      "35/34 [==============================] - 35s 992ms/step - loss: 0.1445 - acc: 0.9734 - val_loss: 0.1886 - val_acc: 0.9465\n",
      "Epoch 13/100\n",
      "35/34 [==============================] - 35s 997ms/step - loss: 0.1252 - acc: 0.9790 - val_loss: 0.1849 - val_acc: 0.9588\n",
      "Epoch 14/100\n",
      "35/34 [==============================] - 35s 1s/step - loss: 0.1247 - acc: 0.9781 - val_loss: 0.1838 - val_acc: 0.9547\n",
      "Epoch 15/100\n",
      "35/34 [==============================] - 35s 1s/step - loss: 0.1009 - acc: 0.9848 - val_loss: 0.1706 - val_acc: 0.9630\n",
      "Epoch 16/100\n",
      "35/34 [==============================] - 35s 1s/step - loss: 0.1142 - acc: 0.9754 - val_loss: 0.1753 - val_acc: 0.9630\n",
      "Epoch 17/100\n",
      "35/34 [==============================] - 35s 998ms/step - loss: 0.1158 - acc: 0.9729 - val_loss: 0.1754 - val_acc: 0.9547\n",
      "Epoch 18/100\n",
      "35/34 [==============================] - 35s 1s/step - loss: 0.1522 - acc: 0.9709 - val_loss: 0.1643 - val_acc: 0.9671\n",
      "Epoch 19/100\n",
      "35/34 [==============================] - 36s 1s/step - loss: 0.1014 - acc: 0.9844 - val_loss: 0.1721 - val_acc: 0.9588\n",
      "Epoch 20/100\n",
      "35/34 [==============================] - 35s 1s/step - loss: 0.0858 - acc: 0.9866 - val_loss: 0.1678 - val_acc: 0.9588\n",
      "Epoch 21/100\n",
      "35/34 [==============================] - 35s 994ms/step - loss: 0.0950 - acc: 0.9884 - val_loss: 0.1651 - val_acc: 0.9671\n",
      "Epoch 22/100\n",
      "35/34 [==============================] - 35s 992ms/step - loss: 0.0859 - acc: 0.9875 - val_loss: 0.1660 - val_acc: 0.9588\n",
      "Epoch 23/100\n",
      "35/34 [==============================] - 35s 1s/step - loss: 0.0909 - acc: 0.9837 - val_loss: 0.1649 - val_acc: 0.9712\n",
      "Epoch 24/100\n",
      "35/34 [==============================] - 35s 1s/step - loss: 0.1272 - acc: 0.9758 - val_loss: 0.1621 - val_acc: 0.9671\n",
      "Epoch 25/100\n",
      "35/34 [==============================] - 35s 1s/step - loss: 0.0876 - acc: 0.9888 - val_loss: 0.1618 - val_acc: 0.9547\n",
      "Epoch 26/100\n",
      "35/34 [==============================] - 35s 997ms/step - loss: 0.0967 - acc: 0.9846 - val_loss: 0.1599 - val_acc: 0.9712\n",
      "Epoch 27/100\n",
      "35/34 [==============================] - 35s 993ms/step - loss: 0.0807 - acc: 0.9902 - val_loss: 0.1643 - val_acc: 0.9671\n",
      "Epoch 28/100\n",
      "35/34 [==============================] - 35s 1s/step - loss: 0.0861 - acc: 0.9850 - val_loss: 0.1651 - val_acc: 0.9588\n",
      "Epoch 29/100\n",
      "35/34 [==============================] - 35s 1s/step - loss: 0.0784 - acc: 0.9893 - val_loss: 0.1723 - val_acc: 0.9465\n",
      "Epoch 30/100\n",
      "35/34 [==============================] - 35s 1s/step - loss: 0.0858 - acc: 0.9875 - val_loss: 0.1667 - val_acc: 0.9588\n",
      "Epoch 31/100\n",
      "35/34 [==============================] - 35s 998ms/step - loss: 0.0831 - acc: 0.9951 - val_loss: 0.1657 - val_acc: 0.9547\n",
      "Epoch 32/100\n",
      "35/34 [==============================] - 35s 998ms/step - loss: 0.0785 - acc: 0.9863 - val_loss: 0.1688 - val_acc: 0.9588\n",
      "Epoch 33/100\n",
      "35/34 [==============================] - 35s 1s/step - loss: 0.0746 - acc: 0.9893 - val_loss: 0.1610 - val_acc: 0.9588\n"
     ]
    },
    {
     "data": {
      "text/plain": [
       "<keras.callbacks.History at 0x7f273dee8908>"
      ]
     },
     "execution_count": 29,
     "metadata": {},
     "output_type": "execute_result"
    }
   ],
   "source": [
    "model.fit_generator(datagen.flow(x_train,y_train_,batch_size = 64),\n",
    "                    steps_per_epoch= len(x_train)/64,\n",
    "                    epochs = 100,\n",
    "                    callbacks=callbacks,\n",
    "                    validation_data = (x_test,y_test_))"
   ]
  },
  {
   "cell_type": "code",
   "execution_count": 30,
   "metadata": {
    "_uuid": "bdef6ecf90ebf3579c136a3e5172223399cb3df9"
   },
   "outputs": [],
   "source": []
  },
  {
   "cell_type": "code",
   "execution_count": 30,
   "metadata": {
    "_uuid": "002391e87b062c87e5117206eed69834553fbbca"
   },
   "outputs": [
    {
     "ename": "SyntaxError",
     "evalue": "unexpected EOF while parsing (<ipython-input-30-a855c5f32397>, line 1)",
     "output_type": "error",
     "traceback": [
      "\u001b[0;36m  File \u001b[0;32m\"<ipython-input-30-a855c5f32397>\"\u001b[0;36m, line \u001b[0;32m1\u001b[0m\n\u001b[0;31m    np.argmax(model.predict(x_test,axis=1)\u001b[0m\n\u001b[0m                                          ^\u001b[0m\n\u001b[0;31mSyntaxError\u001b[0m\u001b[0;31m:\u001b[0m unexpected EOF while parsing\n"
     ]
    }
   ],
   "source": [
    "np.argmax(model.predict(x_test,axis=1)"
   ]
  },
  {
   "cell_type": "code",
   "execution_count": 31,
   "metadata": {
    "_uuid": "3089d189422cbf1c76fa2866b9d10b0346193fee"
   },
   "outputs": [
    {
     "data": {
      "text/plain": [
       "array([26,  6, 34, 30, 31,  1, 31, 34, 25,  0, 34, 35,  0, 28, 32,  6, 34,\n",
       "       26, 32,  6, 18, 30, 17, 30, 27, 30,  0, 30, 25, 33,  1,  0,  0,  8,\n",
       "        1,  0, 31,  0, 30, 26, 27, 34, 30,  0, 34, 26, 28, 27, 24, 24, 23,\n",
       "       34, 24, 19,  1,  3,  2,  0, 33, 31, 30, 26, 24, 19,  0,  0, 28, 10,\n",
       "       19, 35, 34, 31, 18, 26,  4, 33, 35, 20, 33, 17, 34, 27,  0,  2,  6,\n",
       "       30, 28, 32, 30, 34,  4,  2, 15, 29, 18, 30, 33, 29, 26, 27, 29,  5,\n",
       "       12, 32, 22, 10, 30, 28, 14,  0, 32, 28, 27, 34, 24, 22,  5,  0, 32,\n",
       "       28, 26, 18, 33, 30, 29,  5, 33,  0, 29,  0,  6,  2,  2,  0, 12, 29,\n",
       "        0, 35,  2, 33, 28, 14, 18,  4, 28, 19, 15, 31, 33, 17, 27, 21, 32,\n",
       "       34,  0, 29, 33, 33,  0, 33, 33,  0, 33,  6, 33, 11, 21,  0, 20, 32,\n",
       "       27, 11, 35, 33, 33, 28, 30, 29, 23,  1, 33, 34, 19, 31, 26, 35, 29,\n",
       "       31,  0, 27,  2,  0,  5, 27, 30, 31,  0, 26, 33, 33, 29, 29, 22, 14,\n",
       "        6, 35, 32,  1,  1,  2,  7, 34, 32, 35,  4, 34, 16, 33, 17, 27, 29,\n",
       "       35, 14, 29, 32, 33, 29, 27, 31,  5, 34, 22,  2,  6, 34, 20,  3,  2,\n",
       "        2, 33,  5, 21,  4])"
      ]
     },
     "execution_count": 31,
     "metadata": {},
     "output_type": "execute_result"
    }
   ],
   "source": [
    "np.argmax(y_test_,axis=1)"
   ]
  },
  {
   "cell_type": "code",
   "execution_count": 32,
   "metadata": {
    "_uuid": "77b6a271e02260bc98e2b1f04ee6f21f0ea8e58e"
   },
   "outputs": [],
   "source": [
    "model.save('FINE_20_early_stopping_90.h5')"
   ]
  },
  {
   "cell_type": "code",
   "execution_count": 33,
   "metadata": {
    "_uuid": "bb3de5125cb2acfd5e00e75bfb9483e7e9a66018"
   },
   "outputs": [],
   "source": []
  },
  {
   "cell_type": "code",
   "execution_count": 33,
   "metadata": {
    "_uuid": "c3cb7711049bea6c7a5602b81e2b2f69443cfce1"
   },
   "outputs": [],
   "source": []
  },
  {
   "cell_type": "code",
   "execution_count": 33,
   "metadata": {
    "_uuid": "a4700085ac5b614a87ece605fbde1d458e04e732"
   },
   "outputs": [],
   "source": []
  }
 ],
 "metadata": {
  "kernelspec": {
   "display_name": "Python 3",
   "language": "python",
   "name": "python3"
  },
  "language_info": {
   "codemirror_mode": {
    "name": "ipython",
    "version": 3
   },
   "file_extension": ".py",
   "mimetype": "text/x-python",
   "name": "python",
   "nbconvert_exporter": "python",
   "pygments_lexer": "ipython3",
   "version": "3.7.1"
  }
 },
 "nbformat": 4,
 "nbformat_minor": 1
}
