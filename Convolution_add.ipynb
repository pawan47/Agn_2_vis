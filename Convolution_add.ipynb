{
  "cells": [
    {
      "metadata": {
        "_uuid": "a0be2094d3489825188d4096e8bd868ea550b0a9",
        "trusted": true
      },
      "cell_type": "code",
      "source": "import numpy as np\nimport pandas as pd\nimport os\nimport cv2\nimport matplotlib.pyplot as plt\nimport matplotlib.image as mpimg\nfrom random import shuffle\nimport glob\nfrom sklearn.preprocessing import LabelEncoder as le\n#from classification_models.resnet import ResNet18\nfrom sklearn.model_selection import train_test_split",
      "execution_count": null,
      "outputs": []
    },
    {
      "metadata": {
        "_uuid": "6e53707dbe169511e82613903764a81ceb31fd07",
        "trusted": true
      },
      "cell_type": "code",
      "source": "import keras\nfrom keras.models import Sequential\nfrom keras.layers import Dense, Dropout, Flatten, GlobalAveragePooling2D\nfrom keras.layers import Conv2D, MaxPooling2D\nfrom keras.applications import MobileNet,densenet\nfrom keras.preprocessing import image\nfrom keras.preprocessing.image import ImageDataGenerator\nfrom keras.models import Model\nfrom keras.optimizers import Adam\nfrom keras.callbacks import EarlyStopping, ModelCheckpoint\nfrom keras.layers import concatenate, add\nfrom keras.layers import Input\n",
      "execution_count": null,
      "outputs": []
    },
    {
      "metadata": {
        "_uuid": "f649a8dec5a67b485e69684f8109d5fddd5b8375",
        "trusted": true
      },
      "cell_type": "code",
      "source": "# cla = [x[1] for x in os.walk(\"../input/vision_asgn2/vision_asgn2\")][0]",
      "execution_count": null,
      "outputs": []
    },
    {
      "metadata": {
        "trusted": true,
        "_uuid": "46cc9169a4f96d40d970893eb3f5d1a36f5977cb"
      },
      "cell_type": "code",
      "source": "",
      "execution_count": null,
      "outputs": []
    },
    {
      "metadata": {
        "_uuid": "789df8b094d003770329abf662a9bbd976562be6",
        "trusted": true
      },
      "cell_type": "code",
      "source": "data = []\ny = []\nfine = True\nkk = glob.glob('../input/train/train/*/*/*.jpg')\nshuffle(kk)\nfor i in kk:\n    data.append(cv2.resize(mpimg.imread(i)/255.0 ,(224,224)))\n    pp = i.split('/')\n    if fine == True:\n        y.append(pp[4] + '_' + pp[5])\n    else:\n        y.append(pp[4])\ndata = np.array(data)\n\n# kk\n",
      "execution_count": null,
      "outputs": []
    },
    {
      "metadata": {
        "_uuid": "02d331fe8c6b9c704b60f09e6608a1efc171a8b7",
        "trusted": true
      },
      "cell_type": "code",
      "source": "le_ = le()\nle_.fit(y)\ny = le_.transform(y)",
      "execution_count": null,
      "outputs": []
    },
    {
      "metadata": {
        "_uuid": "f2ca5ec4c2e21bedc056e80e154bdc60f3d00fac",
        "trusted": true
      },
      "cell_type": "code",
      "source": "x_train,x_test,y_train_,y_test_ = train_test_split(data,y,test_size = .1)",
      "execution_count": null,
      "outputs": []
    },
    {
      "metadata": {
        "_uuid": "cf4815ad567ba10a1c6a9d05f8385aa9386ff787",
        "trusted": true
      },
      "cell_type": "code",
      "source": "y_train_ = keras.utils.to_categorical(y_train_, 36)\ny_test_ = keras.utils.to_categorical(y_test_, 36)",
      "execution_count": null,
      "outputs": []
    },
    {
      "metadata": {
        "_uuid": "7060236d8d064ea3a6dca4e667358b485dea78c0",
        "trusted": true
      },
      "cell_type": "code",
      "source": "x_train.shape",
      "execution_count": null,
      "outputs": []
    },
    {
      "metadata": {
        "_uuid": "4f52941be488806961c5b83c4d938e833064548f",
        "trusted": true
      },
      "cell_type": "code",
      "source": "datagen = ImageDataGenerator(\n    featurewise_center=True,\n    featurewise_std_normalization=True,\n    rotation_range=30,\n    horizontal_flip=True,\n    zoom_range=0.2)\ndatagen.fit(x_train)",
      "execution_count": null,
      "outputs": []
    },
    {
      "metadata": {
        "trusted": true,
        "_uuid": "f11e1f8b024808ef49a50de4c59a86bb5e6f91d7"
      },
      "cell_type": "code",
      "source": "'Done'",
      "execution_count": null,
      "outputs": []
    },
    {
      "metadata": {
        "trusted": true,
        "_uuid": "eff2895d64a9de4681ff3d90f64797b5bcdef3b3"
      },
      "cell_type": "code",
      "source": "inp = Input(shape = (224,224,3))",
      "execution_count": null,
      "outputs": []
    },
    {
      "metadata": {
        "_uuid": "a5fa87b5761a2db3b762ffac91dfc1840ba51745",
        "trusted": true
      },
      "cell_type": "code",
      "source": "base_model1=MobileNet(weights='imagenet',include_top=False) \nx=base_model1(inp)\nx = Conv2D(512, (3, 3), activation='relu')(x)\n#x = MaxPooling2D(pool_size=(2, 2))\nx1=GlobalAveragePooling2D()(x)\n# x=Dense(512,activation='relu')(x) \n# preds=Dense(5,activation='softmax')(x) \n#model1 = Model(inputs=base_model1.input, outputs=x1)\n#model1.summary()",
      "execution_count": null,
      "outputs": []
    },
    {
      "metadata": {
        "trusted": true,
        "_uuid": "93edc139d78bf7ba59fcab5894e846f0e168503b"
      },
      "cell_type": "code",
      "source": "",
      "execution_count": null,
      "outputs": []
    },
    {
      "metadata": {
        "trusted": true,
        "_uuid": "e6dc099b772ff26b4986708994f5108977418882"
      },
      "cell_type": "code",
      "source": "",
      "execution_count": null,
      "outputs": []
    },
    {
      "metadata": {
        "trusted": true,
        "_uuid": "052346701c4e2005f4b25aebb53356c2202457b6"
      },
      "cell_type": "code",
      "source": "#base_model2 = ResNet18((224, 224, 3), weights='imagenet', include_top=False)\nbase_model2 = densenet.DenseNet121(include_top = False, weights='imagenet')\n\nx = base_model2(inp)\nx = Conv2D(512, (3, 3), activation='relu')(x)\nx2=GlobalAveragePooling2D()(x)\n#model2=Model(inputs=base_model2.input,outputs=x2)\n# len(model.layers)\n#model2.summary()",
      "execution_count": null,
      "outputs": []
    },
    {
      "metadata": {
        "trusted": true,
        "_uuid": "43862af07cdce80c9eb13906affafe66122db09b"
      },
      "cell_type": "code",
      "source": "concatenated = concatenate([x1, x2])\nconcat_out = Dense(1024, activation='relu')(concatenated)\n#concat_out = Dense(1024,activation = 'relu')(concat_out)\nconcat_out_ = Dense(36, activation='softmax')(concat_out)\nmerged_model= Model(inputs=inp, outputs=concat_out_)\n\nmerged_model.summary()",
      "execution_count": null,
      "outputs": []
    },
    {
      "metadata": {
        "trusted": true,
        "_uuid": "496c7acf16c8ec1b72e2fba4d6fc476eed70f568"
      },
      "cell_type": "code",
      "source": "'Done'",
      "execution_count": null,
      "outputs": []
    },
    {
      "metadata": {
        "trusted": true,
        "_uuid": "9f126b641d72f6f82867fa36acdf6ff8bed2dd78"
      },
      "cell_type": "code",
      "source": "len(merged_model.layers)",
      "execution_count": null,
      "outputs": []
    },
    {
      "metadata": {
        "trusted": true,
        "_uuid": "f77df8b3fe64568bcdf7dbbf6db15e0607c15e58"
      },
      "cell_type": "code",
      "source": "merged_model.layers[:3]",
      "execution_count": null,
      "outputs": []
    },
    {
      "metadata": {
        "trusted": true,
        "_uuid": "6271bd257794591b5b967649a55d01e3141f6a37"
      },
      "cell_type": "code",
      "source": "",
      "execution_count": null,
      "outputs": []
    },
    {
      "metadata": {
        "trusted": true,
        "_uuid": "764e24eaff4dbce247f530d836e096707e21412d"
      },
      "cell_type": "code",
      "source": "model = merged_model",
      "execution_count": null,
      "outputs": []
    },
    {
      "metadata": {
        "trusted": true,
        "_uuid": "fd5b244a5df8515c4fc7d594970b0dceb723c005"
      },
      "cell_type": "code",
      "source": "# m= Merge([base_model1, base_model2,], mode='concat')",
      "execution_count": null,
      "outputs": []
    },
    {
      "metadata": {
        "trusted": true,
        "_uuid": "b4683de82116bf8f682caf5ddb78103e88089e87"
      },
      "cell_type": "code",
      "source": "",
      "execution_count": null,
      "outputs": []
    },
    {
      "metadata": {
        "trusted": true,
        "_uuid": "7ae9453af3aebee6cc726610cf9d8f60996b1e13"
      },
      "cell_type": "code",
      "source": "",
      "execution_count": null,
      "outputs": []
    },
    {
      "metadata": {
        "trusted": true,
        "_uuid": "973a3424badc2df262c6e73b0db5a3e3c32347a8"
      },
      "cell_type": "code",
      "source": "",
      "execution_count": null,
      "outputs": []
    },
    {
      "metadata": {
        "trusted": true,
        "_uuid": "65853e1c9614c9b7d5d370a26ba9c845195c1f09"
      },
      "cell_type": "code",
      "source": "",
      "execution_count": null,
      "outputs": []
    },
    {
      "metadata": {
        "trusted": true,
        "_uuid": "d5e837927cced1a7fbed165368f76a91d92c4dfa"
      },
      "cell_type": "code",
      "source": "",
      "execution_count": null,
      "outputs": []
    },
    {
      "metadata": {
        "_uuid": "d7c89b5e0e9e814715c3dee757edfc3920efeca3",
        "trusted": true
      },
      "cell_type": "code",
      "source": "# model=Model(inputs=base_model.input,outputs=preds)\n# len(model.layers)",
      "execution_count": null,
      "outputs": []
    },
    {
      "metadata": {
        "_uuid": "3a6575e0ca4e9feff4c42b70d6ab84c70a149ee4",
        "trusted": true
      },
      "cell_type": "code",
      "source": "for layer in model.layers[:3]:\n    layer.trainable=False\nfor layer in model.layers[3:]:\n    layer.trainable=True\nprint(model.summary())",
      "execution_count": null,
      "outputs": []
    },
    {
      "metadata": {
        "trusted": true,
        "_uuid": "7cf9fedfc8e6c4e5183c87dbfda1daa5534e413b"
      },
      "cell_type": "code",
      "source": "?Adam",
      "execution_count": null,
      "outputs": []
    },
    {
      "metadata": {
        "_uuid": "58da2d969adfcab0949904528aeddeac25058b96",
        "trusted": true
      },
      "cell_type": "code",
      "source": "optimizer = Adam(lr = 0.0005,decay=0.1,amsgrad=True)\nmodel.compile(optimizer='Adam',loss='categorical_crossentropy',metrics=['accuracy'])",
      "execution_count": null,
      "outputs": []
    },
    {
      "metadata": {
        "_uuid": "226e5c81d418ea7c1652c3e022ceeea470f3cb9d",
        "trusted": true
      },
      "cell_type": "code",
      "source": "#callbacks = [EarlyStopping(monitor='val_loss', patience=5)]",
      "execution_count": null,
      "outputs": []
    },
    {
      "metadata": {
        "_uuid": "4389393fe3c9cff79e6a442ac2a58e5031d1ea75",
        "trusted": true
      },
      "cell_type": "code",
      "source": "model.fit_generator(datagen.flow(x_train,y_train_,batch_size = 64),\n                    steps_per_epoch= len(x_train)/64,\n                    epochs = 50,\n                    #callbacks=callbacks,\n                   validation_data = (x_test,y_test_))",
      "execution_count": null,
      "outputs": []
    },
    {
      "metadata": {
        "trusted": true,
        "_uuid": "bdef6ecf90ebf3579c136a3e5172223399cb3df9"
      },
      "cell_type": "code",
      "source": "del data",
      "execution_count": null,
      "outputs": []
    },
    {
      "metadata": {
        "_uuid": "5302d5d08a3bdcefe6706e2df686897e3393513b",
        "trusted": false
      },
      "cell_type": "code",
      "source": "# epochs = 25\n# for e in range(epochs):\n#     batches = 0\n#     for x_batch, y_batch in datagen.flow(x_train,y_train_,batch_size = 64):\n#         model.fit([x_batch, x_batch], y_batch)\n#         batches += 1\n        \n#         if(batches > len(x_train)/64):\n#             break",
      "execution_count": null,
      "outputs": []
    },
    {
      "metadata": {
        "_uuid": "002391e87b062c87e5117206eed69834553fbbca",
        "trusted": true
      },
      "cell_type": "code",
      "source": "np.argmax(model.predict([x_test, x_test]),axis=1)",
      "execution_count": null,
      "outputs": []
    },
    {
      "metadata": {
        "_uuid": "3089d189422cbf1c76fa2866b9d10b0346193fee",
        "trusted": true
      },
      "cell_type": "code",
      "source": "np.argmax(y_test_,axis=1)",
      "execution_count": null,
      "outputs": []
    },
    {
      "metadata": {
        "_uuid": "77b6a271e02260bc98e2b1f04ee6f21f0ea8e58e",
        "trusted": false
      },
      "cell_type": "code",
      "source": "",
      "execution_count": null,
      "outputs": []
    },
    {
      "metadata": {
        "_uuid": "bb3de5125cb2acfd5e00e75bfb9483e7e9a66018",
        "trusted": false
      },
      "cell_type": "code",
      "source": "",
      "execution_count": null,
      "outputs": []
    },
    {
      "metadata": {
        "_uuid": "c3cb7711049bea6c7a5602b81e2b2f69443cfce1",
        "trusted": false
      },
      "cell_type": "code",
      "source": "",
      "execution_count": null,
      "outputs": []
    },
    {
      "metadata": {
        "_uuid": "a4700085ac5b614a87ece605fbde1d458e04e732",
        "trusted": false
      },
      "cell_type": "code",
      "source": "",
      "execution_count": null,
      "outputs": []
    },
    {
      "metadata": {
        "_uuid": "6baebd64edde313933a1a58200286b03fb46b847",
        "trusted": false
      },
      "cell_type": "code",
      "source": "",
      "execution_count": null,
      "outputs": []
    },
    {
      "metadata": {
        "_uuid": "5ec6cb97da76942baeaff7fbe16af05fd42c7d17",
        "trusted": false
      },
      "cell_type": "code",
      "source": "",
      "execution_count": null,
      "outputs": []
    },
    {
      "metadata": {
        "_uuid": "6d823006a58e61433f6493ac72259ee1990115dc",
        "trusted": false
      },
      "cell_type": "code",
      "source": "",
      "execution_count": null,
      "outputs": []
    },
    {
      "metadata": {
        "_uuid": "218393177073f823dce74749d16a282115e8b570",
        "trusted": true
      },
      "cell_type": "code",
      "source": "",
      "execution_count": null,
      "outputs": []
    },
    {
      "metadata": {
        "_uuid": "36145f724c873cd8814f246f67b42d1e1e36300b",
        "trusted": false
      },
      "cell_type": "code",
      "source": "",
      "execution_count": null,
      "outputs": []
    },
    {
      "metadata": {
        "_uuid": "1f7562d38be693bbf725eca1e7d29d7c2bac3c1d",
        "trusted": false
      },
      "cell_type": "code",
      "source": "",
      "execution_count": null,
      "outputs": []
    },
    {
      "metadata": {
        "_uuid": "77f866eb59ed4100359ef8f9d89a44f8ac8ce288",
        "trusted": false
      },
      "cell_type": "code",
      "source": "",
      "execution_count": null,
      "outputs": []
    },
    {
      "metadata": {
        "_uuid": "b170375453ee1e73936e801168c206959694d698",
        "trusted": false
      },
      "cell_type": "code",
      "source": "",
      "execution_count": null,
      "outputs": []
    },
    {
      "metadata": {
        "_uuid": "f5bf2d3b835178c0a373225e437b72f44a0a1fcc",
        "trusted": false
      },
      "cell_type": "code",
      "source": "",
      "execution_count": null,
      "outputs": []
    },
    {
      "metadata": {
        "_uuid": "cb09cf50707070c2be130728af3d7e50b14ff372",
        "trusted": false
      },
      "cell_type": "code",
      "source": "model1 = Sequential()\nmodel1.add(Conv2D(32, kernel_size=(3, 3),\n                 activation='relu',\n                 input_shape=(256,256,3)))\nmodel1.add(Conv2D(64, (3, 3), activation='relu'))\nmodel1.add(MaxPooling2D(pool_size=(2, 2)))\nmodel1.add(Dropout(0.25))\nmodel1.add(Flatten())\nmodel1.add(Dense(128, activation='relu'))\nmodel1.add(Dropout(0.5))\nmodel1.add(Dense(36, activation='softmax'))",
      "execution_count": null,
      "outputs": []
    },
    {
      "metadata": {
        "_uuid": "35e85c28873e96067be0c2615ca1b8354fd72eda",
        "trusted": false
      },
      "cell_type": "code",
      "source": "model1.compile(loss=keras.losses.categorical_crossentropy,\n              optimizer=keras.optimizers.Adadelta(),\n              metrics=['accuracy'])\n\nmodel1.fit(data, y_train,\n          batch_size=68,\n          epochs=5)\n",
      "execution_count": null,
      "outputs": []
    },
    {
      "metadata": {
        "_uuid": "a64f67693407753f3702139b29c1bf8b0bfdc7ad",
        "trusted": false
      },
      "cell_type": "code",
      "source": "model.summary()",
      "execution_count": null,
      "outputs": []
    }
  ],
  "metadata": {
    "kernelspec": {
      "display_name": "Python 3",
      "language": "python",
      "name": "python3"
    },
    "language_info": {
      "name": "python",
      "version": "3.6.6",
      "mimetype": "text/x-python",
      "codemirror_mode": {
        "name": "ipython",
        "version": 3
      },
      "pygments_lexer": "ipython3",
      "nbconvert_exporter": "python",
      "file_extension": ".py"
    }
  },
  "nbformat": 4,
  "nbformat_minor": 1
}